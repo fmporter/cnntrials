{
 "cells": [
  {
   "cell_type": "markdown",
   "metadata": {},
   "source": [
    "This tutorial is going to make use of the dataset of IMDB film reviews and aim to classify them as positive or negative."
   ]
  },
  {
   "cell_type": "markdown",
   "metadata": {},
   "source": [
    "To start off, import all the required packages:"
   ]
  },
  {
   "cell_type": "code",
   "execution_count": 1,
   "metadata": {},
   "outputs": [],
   "source": [
    "#Importing tensorflow, keras and numpy\n",
    "import tensorflow as tf\n",
    "from tensorflow import keras\n",
    "\n",
    "import numpy as np"
   ]
  },
  {
   "cell_type": "markdown",
   "metadata": {},
   "source": [
    "Next, import the IMDB review dataset from keras:"
   ]
  },
  {
   "cell_type": "code",
   "execution_count": 2,
   "metadata": {},
   "outputs": [],
   "source": [
    "#Importing IMDB dataset\n",
    "imdb = keras.datasets.imdb\n",
    "\n",
    "(train_data, train_labels), (test_data, test_labels) = imdb.load_data(num_words=10000)"
   ]
  },
  {
   "cell_type": "markdown",
   "metadata": {},
   "source": [
    "Now, taking a look at the format of the data. There are 25000 training entries total:"
   ]
  },
  {
   "cell_type": "code",
   "execution_count": 3,
   "metadata": {
    "scrolled": true
   },
   "outputs": [
    {
     "name": "stdout",
     "output_type": "stream",
     "text": [
      "Training entries: 25000, labels: 25000\n"
     ]
    }
   ],
   "source": [
    "#Investigating the length of the training data\n",
    "print(\"Training entries: {}, labels: {}\".format(len(train_data), len(train_labels)))"
   ]
  },
  {
   "cell_type": "markdown",
   "metadata": {},
   "source": [
    "Each review's text is rendered as numbers, each of which refers to the index of a word in a dictionary file."
   ]
  },
  {
   "cell_type": "code",
   "execution_count": 4,
   "metadata": {},
   "outputs": [
    {
     "name": "stdout",
     "output_type": "stream",
     "text": [
      "[1, 14, 22, 16, 43, 530, 973, 1622, 1385, 65, 458, 4468, 66, 3941, 4, 173, 36, 256, 5, 25, 100, 43, 838, 112, 50, 670, 2, 9, 35, 480, 284, 5, 150, 4, 172, 112, 167, 2, 336, 385, 39, 4, 172, 4536, 1111, 17, 546, 38, 13, 447, 4, 192, 50, 16, 6, 147, 2025, 19, 14, 22, 4, 1920, 4613, 469, 4, 22, 71, 87, 12, 16, 43, 530, 38, 76, 15, 13, 1247, 4, 22, 17, 515, 17, 12, 16, 626, 18, 2, 5, 62, 386, 12, 8, 316, 8, 106, 5, 4, 2223, 5244, 16, 480, 66, 3785, 33, 4, 130, 12, 16, 38, 619, 5, 25, 124, 51, 36, 135, 48, 25, 1415, 33, 6, 22, 12, 215, 28, 77, 52, 5, 14, 407, 16, 82, 2, 8, 4, 107, 117, 5952, 15, 256, 4, 2, 7, 3766, 5, 723, 36, 71, 43, 530, 476, 26, 400, 317, 46, 7, 4, 2, 1029, 13, 104, 88, 4, 381, 15, 297, 98, 32, 2071, 56, 26, 141, 6, 194, 7486, 18, 4, 226, 22, 21, 134, 476, 26, 480, 5, 144, 30, 5535, 18, 51, 36, 28, 224, 92, 25, 104, 4, 226, 65, 16, 38, 1334, 88, 12, 16, 283, 5, 16, 4472, 113, 103, 32, 15, 16, 5345, 19, 178, 32]\n"
     ]
    }
   ],
   "source": [
    "#An example of the format of the data from the first review\n",
    "print(train_data[0])"
   ]
  },
  {
   "cell_type": "markdown",
   "metadata": {},
   "source": [
    "As can be expected, not all reviews are of the same length; below is a comparison of the lengths of the first and second reviews:"
   ]
  },
  {
   "cell_type": "code",
   "execution_count": 5,
   "metadata": {},
   "outputs": [
    {
     "data": {
      "text/plain": [
       "(218, 189)"
      ]
     },
     "execution_count": 5,
     "metadata": {},
     "output_type": "execute_result"
    }
   ],
   "source": [
    "#Finding lengths of the first two reviews in the dataset\n",
    "len(train_data[0]), len(train_data[1])"
   ]
  },
  {
   "cell_type": "markdown",
   "metadata": {},
   "source": [
    "It might be useful to know what the words of the reviews were, so we can create a function that'll retrieve the words from the dictionary."
   ]
  },
  {
   "cell_type": "code",
   "execution_count": 6,
   "metadata": {},
   "outputs": [],
   "source": [
    "# A dictionary mapping words to an integer index\n",
    "word_index = imdb.get_word_index()\n",
    "\n",
    "# The first indices are reserved\n",
    "word_index = {k:(v+3) for k,v in word_index.items()} \n",
    "word_index[\"<PAD>\"] = 0\n",
    "word_index[\"<START>\"] = 1\n",
    "word_index[\"<UNK>\"] = 2  # unknown\n",
    "word_index[\"<UNUSED>\"] = 3\n",
    "\n",
    "reverse_word_index = dict([(value, key) for (key, value) in word_index.items()])\n",
    "\n",
    "def decode_review(text):\n",
    "    return ' '.join([reverse_word_index.get(i, '?') for i in text])"
   ]
  },
  {
   "cell_type": "markdown",
   "metadata": {},
   "source": [
    "The above creates a function called decode_review that can retrieve the text used. Here's an example of its use, decoding the first review:"
   ]
  },
  {
   "cell_type": "code",
   "execution_count": 7,
   "metadata": {},
   "outputs": [
    {
     "data": {
      "text/plain": [
       "\"<START> this film was just brilliant casting location scenery story direction everyone's really suited the part they played and you could just imagine being there robert <UNK> is an amazing actor and now the same being director <UNK> father came from the same scottish island as myself so i loved the fact there was a real connection with this film the witty remarks throughout the film were great it was just brilliant so much that i bought the film as soon as it was released for <UNK> and would recommend it to everyone to watch and the fly fishing was amazing really cried at the end it was so sad and you know what they say if you cry at a film it must have been good and this definitely was also <UNK> to the two little boy's that played the <UNK> of norman and paul they were just brilliant children are often left out of the <UNK> list i think because the stars that play them all grown up are such a big profile for the whole film but these children are amazing and should be praised for what they have done don't you think the whole story was so lovely because it was true and was someone's life after all that was shared with us all\""
      ]
     },
     "execution_count": 7,
     "metadata": {},
     "output_type": "execute_result"
    }
   ],
   "source": [
    "#Retrieving text for the first review\n",
    "decode_review(train_data[0])"
   ]
  },
  {
   "cell_type": "markdown",
   "metadata": {},
   "source": [
    "To be used in a neural network, the reviews need to be converted into tensors. For this tutorial, the less memory-intensive option of padding reviews so they're all the same length then creating a tensor with the shape max_length * num_reviews."
   ]
  },
  {
   "cell_type": "markdown",
   "metadata": {},
   "source": [
    "To ensure all reviews are the same length, the pad_sequences function will be used:"
   ]
  },
  {
   "cell_type": "code",
   "execution_count": 8,
   "metadata": {},
   "outputs": [],
   "source": [
    "#Pad training and test data to the same maximum length\n",
    "train_data = keras.preprocessing.sequence.pad_sequences(train_data,\n",
    "                                                        value=word_index[\"<PAD>\"],\n",
    "                                                        padding='post',\n",
    "                                                        maxlen=256)\n",
    "\n",
    "test_data = keras.preprocessing.sequence.pad_sequences(test_data,\n",
    "                                                       value=word_index[\"<PAD>\"],\n",
    "                                                       padding='post',\n",
    "                                                       maxlen=256)"
   ]
  },
  {
   "cell_type": "markdown",
   "metadata": {},
   "source": [
    "Comparing the first and second review lengths again now shows them to be the same length, as expected:"
   ]
  },
  {
   "cell_type": "code",
   "execution_count": 9,
   "metadata": {},
   "outputs": [
    {
     "data": {
      "text/plain": [
       "(256, 256)"
      ]
     },
     "execution_count": 9,
     "metadata": {},
     "output_type": "execute_result"
    }
   ],
   "source": [
    "#Comparing lengths of first two reviews again now they've been padded\n",
    "len(train_data[0]), len(train_data[1])"
   ]
  },
  {
   "cell_type": "markdown",
   "metadata": {},
   "source": [
    "The padded reviews will display a string of zeroes to fill up the \"missing\" space, as can be seen in the padded version of the first review:"
   ]
  },
  {
   "cell_type": "code",
   "execution_count": 10,
   "metadata": {},
   "outputs": [
    {
     "name": "stdout",
     "output_type": "stream",
     "text": [
      "[   1   14   22   16   43  530  973 1622 1385   65  458 4468   66 3941\n",
      "    4  173   36  256    5   25  100   43  838  112   50  670    2    9\n",
      "   35  480  284    5  150    4  172  112  167    2  336  385   39    4\n",
      "  172 4536 1111   17  546   38   13  447    4  192   50   16    6  147\n",
      " 2025   19   14   22    4 1920 4613  469    4   22   71   87   12   16\n",
      "   43  530   38   76   15   13 1247    4   22   17  515   17   12   16\n",
      "  626   18    2    5   62  386   12    8  316    8  106    5    4 2223\n",
      " 5244   16  480   66 3785   33    4  130   12   16   38  619    5   25\n",
      "  124   51   36  135   48   25 1415   33    6   22   12  215   28   77\n",
      "   52    5   14  407   16   82    2    8    4  107  117 5952   15  256\n",
      "    4    2    7 3766    5  723   36   71   43  530  476   26  400  317\n",
      "   46    7    4    2 1029   13  104   88    4  381   15  297   98   32\n",
      " 2071   56   26  141    6  194 7486   18    4  226   22   21  134  476\n",
      "   26  480    5  144   30 5535   18   51   36   28  224   92   25  104\n",
      "    4  226   65   16   38 1334   88   12   16  283    5   16 4472  113\n",
      "  103   32   15   16 5345   19  178   32    0    0    0    0    0    0\n",
      "    0    0    0    0    0    0    0    0    0    0    0    0    0    0\n",
      "    0    0    0    0    0    0    0    0    0    0    0    0    0    0\n",
      "    0    0    0    0]\n"
     ]
    }
   ],
   "source": [
    "print(train_data[0])"
   ]
  },
  {
   "cell_type": "markdown",
   "metadata": {},
   "source": [
    "And, just for the hell of it, here's the text for it this time:"
   ]
  },
  {
   "cell_type": "code",
   "execution_count": 11,
   "metadata": {
    "scrolled": true
   },
   "outputs": [
    {
     "data": {
      "text/plain": [
       "\"<START> this film was just brilliant casting location scenery story direction everyone's really suited the part they played and you could just imagine being there robert <UNK> is an amazing actor and now the same being director <UNK> father came from the same scottish island as myself so i loved the fact there was a real connection with this film the witty remarks throughout the film were great it was just brilliant so much that i bought the film as soon as it was released for <UNK> and would recommend it to everyone to watch and the fly fishing was amazing really cried at the end it was so sad and you know what they say if you cry at a film it must have been good and this definitely was also <UNK> to the two little boy's that played the <UNK> of norman and paul they were just brilliant children are often left out of the <UNK> list i think because the stars that play them all grown up are such a big profile for the whole film but these children are amazing and should be praised for what they have done don't you think the whole story was so lovely because it was true and was someone's life after all that was shared with us all <PAD> <PAD> <PAD> <PAD> <PAD> <PAD> <PAD> <PAD> <PAD> <PAD> <PAD> <PAD> <PAD> <PAD> <PAD> <PAD> <PAD> <PAD> <PAD> <PAD> <PAD> <PAD> <PAD> <PAD> <PAD> <PAD> <PAD> <PAD> <PAD> <PAD> <PAD> <PAD> <PAD> <PAD> <PAD> <PAD> <PAD> <PAD>\""
      ]
     },
     "execution_count": 11,
     "metadata": {},
     "output_type": "execute_result"
    }
   ],
   "source": [
    "#Retrieving text for the first review\n",
    "decode_review(train_data[0])"
   ]
  },
  {
   "cell_type": "markdown",
   "metadata": {},
   "source": [
    "So any padded entries are registered as PAD, to distinguish them from words which are just too rare to be included in the dictionary, which are UNK."
   ]
  },
  {
   "cell_type": "markdown",
   "metadata": {},
   "source": [
    "Now it's time to actually build the model. This needs decisions on the number of layers and number of hidden units for each layer. These will be kept as in the tutorial example first, and potentially fiddled with later."
   ]
  },
  {
   "cell_type": "code",
   "execution_count": 12,
   "metadata": {},
   "outputs": [
    {
     "name": "stdout",
     "output_type": "stream",
     "text": [
      "_________________________________________________________________\n",
      "Layer (type)                 Output Shape              Param #   \n",
      "=================================================================\n",
      "embedding (Embedding)        (None, None, 16)          160000    \n",
      "_________________________________________________________________\n",
      "global_average_pooling1d (Gl (None, 16)                0         \n",
      "_________________________________________________________________\n",
      "dense (Dense)                (None, 16)                272       \n",
      "_________________________________________________________________\n",
      "dense_1 (Dense)              (None, 1)                 17        \n",
      "=================================================================\n",
      "Total params: 160,289\n",
      "Trainable params: 160,289\n",
      "Non-trainable params: 0\n",
      "_________________________________________________________________\n"
     ]
    }
   ],
   "source": [
    "# input shape is the vocabulary count used for the movie reviews (10,000 words)\n",
    "vocab_size = 10000\n",
    "\n",
    "#Building the model; here we see an embedding layer, a pooling layer, and two dense layers\n",
    "#One dense layer has 16 hidden units, and the other has just one and produces the output - either 0 or 1\n",
    "model = keras.Sequential()\n",
    "model.add(keras.layers.Embedding(vocab_size, 16))\n",
    "model.add(keras.layers.GlobalAveragePooling1D())\n",
    "model.add(keras.layers.Dense(16, activation=tf.nn.relu))\n",
    "model.add(keras.layers.Dense(1, activation=tf.nn.sigmoid))\n",
    "\n",
    "#Details of the model\n",
    "model.summary()"
   ]
  },
  {
   "cell_type": "markdown",
   "metadata": {},
   "source": [
    "Now, select an optimiser and loss function for the model; here, binary crossentropy was chosen to be the best for this type of problem"
   ]
  },
  {
   "cell_type": "code",
   "execution_count": 13,
   "metadata": {},
   "outputs": [],
   "source": [
    "#Setting the optimiser and loss function\n",
    "model.compile(optimizer=tf.train.AdamOptimizer(),\n",
    "              loss='binary_crossentropy',\n",
    "              metrics=['accuracy'])"
   ]
  },
  {
   "cell_type": "markdown",
   "metadata": {},
   "source": [
    "For testing purposes, it can be useful to have a validation set, which lets us know how accurate the model is for data it hasn't seen before. This is separate from the test dataset, as that's only meant to be used after training is finished, while this is for during training."
   ]
  },
  {
   "cell_type": "markdown",
   "metadata": {},
   "source": [
    "Generate a validation set by setting aside 10000 reviews from the original training dataset:"
   ]
  },
  {
   "cell_type": "code",
   "execution_count": 14,
   "metadata": {},
   "outputs": [],
   "source": [
    "#Separating a subsection of reviews to use for validation\n",
    "x_val = train_data[:10000]\n",
    "partial_x_train = train_data[10000:]\n",
    "\n",
    "y_val = train_labels[:10000]\n",
    "partial_y_train = train_labels[10000:]"
   ]
  },
  {
   "cell_type": "markdown",
   "metadata": {},
   "source": [
    "Now, we can actually train the model. The tutorial's defaults are to train over 40 epochs in mini-batches which have 512 samples. The loss and accuracy are found using the validation set."
   ]
  },
  {
   "cell_type": "code",
   "execution_count": 15,
   "metadata": {
    "scrolled": false
   },
   "outputs": [
    {
     "name": "stdout",
     "output_type": "stream",
     "text": [
      "Train on 15000 samples, validate on 10000 samples\n",
      "Epoch 1/40\n",
      "15000/15000 [==============================] - 4s 276us/step - loss: 0.6923 - acc: 0.5593 - val_loss: 0.6910 - val_acc: 0.5848\n",
      "Epoch 2/40\n",
      "15000/15000 [==============================] - 3s 224us/step - loss: 0.6882 - acc: 0.6577 - val_loss: 0.6852 - val_acc: 0.7456\n",
      "Epoch 3/40\n",
      "15000/15000 [==============================] - 3s 209us/step - loss: 0.6784 - acc: 0.7353 - val_loss: 0.6721 - val_acc: 0.7228\n",
      "Epoch 4/40\n",
      "15000/15000 [==============================] - 3s 206us/step - loss: 0.6586 - acc: 0.7638 - val_loss: 0.6493 - val_acc: 0.7341\n",
      "Epoch 5/40\n",
      "15000/15000 [==============================] - 3s 201us/step - loss: 0.6271 - acc: 0.7807 - val_loss: 0.6147 - val_acc: 0.7774\n",
      "Epoch 6/40\n",
      "15000/15000 [==============================] - 3s 199us/step - loss: 0.5853 - acc: 0.8067 - val_loss: 0.5736 - val_acc: 0.8046\n",
      "Epoch 7/40\n",
      "15000/15000 [==============================] - 3s 206us/step - loss: 0.5376 - acc: 0.8289 - val_loss: 0.5297 - val_acc: 0.8189\n",
      "Epoch 8/40\n",
      "15000/15000 [==============================] - 3s 219us/step - loss: 0.4891 - acc: 0.8474 - val_loss: 0.4870 - val_acc: 0.8328\n",
      "Epoch 9/40\n",
      "15000/15000 [==============================] - 3s 200us/step - loss: 0.4442 - acc: 0.8602 - val_loss: 0.4491 - val_acc: 0.8453\n",
      "Epoch 10/40\n",
      "15000/15000 [==============================] - 3s 202us/step - loss: 0.4040 - acc: 0.8739 - val_loss: 0.4174 - val_acc: 0.8509\n",
      "Epoch 11/40\n",
      "15000/15000 [==============================] - 3s 199us/step - loss: 0.3702 - acc: 0.8831 - val_loss: 0.3935 - val_acc: 0.8563\n",
      "Epoch 12/40\n",
      "15000/15000 [==============================] - 3s 199us/step - loss: 0.3421 - acc: 0.8885 - val_loss: 0.3701 - val_acc: 0.8651\n",
      "Epoch 13/40\n",
      "15000/15000 [==============================] - 3s 210us/step - loss: 0.3169 - acc: 0.8971 - val_loss: 0.3540 - val_acc: 0.8687\n",
      "Epoch 14/40\n",
      "15000/15000 [==============================] - 3s 210us/step - loss: 0.2961 - acc: 0.9022 - val_loss: 0.3395 - val_acc: 0.8733\n",
      "Epoch 15/40\n",
      "15000/15000 [==============================] - 3s 201us/step - loss: 0.2782 - acc: 0.9065 - val_loss: 0.3285 - val_acc: 0.8755\n",
      "Epoch 16/40\n",
      "15000/15000 [==============================] - 3s 206us/step - loss: 0.2629 - acc: 0.9111 - val_loss: 0.3194 - val_acc: 0.8775\n",
      "Epoch 17/40\n",
      "15000/15000 [==============================] - 3s 217us/step - loss: 0.2482 - acc: 0.9165 - val_loss: 0.3121 - val_acc: 0.8787\n",
      "Epoch 18/40\n",
      "15000/15000 [==============================] - 3s 202us/step - loss: 0.2356 - acc: 0.9212 - val_loss: 0.3059 - val_acc: 0.8808\n",
      "Epoch 19/40\n",
      "15000/15000 [==============================] - 3s 202us/step - loss: 0.2239 - acc: 0.9251 - val_loss: 0.3008 - val_acc: 0.8823\n",
      "Epoch 20/40\n",
      "15000/15000 [==============================] - 3s 202us/step - loss: 0.2137 - acc: 0.9275 - val_loss: 0.2967 - val_acc: 0.8832\n",
      "Epoch 21/40\n",
      "15000/15000 [==============================] - 3s 202us/step - loss: 0.2036 - acc: 0.9314 - val_loss: 0.2935 - val_acc: 0.8841\n",
      "Epoch 22/40\n",
      "15000/15000 [==============================] - 3s 211us/step - loss: 0.1945 - acc: 0.9357 - val_loss: 0.2911 - val_acc: 0.8839\n",
      "Epoch 23/40\n",
      "15000/15000 [==============================] - 3s 212us/step - loss: 0.1861 - acc: 0.9390 - val_loss: 0.2897 - val_acc: 0.8844\n",
      "Epoch 24/40\n",
      "15000/15000 [==============================] - 3s 201us/step - loss: 0.1778 - acc: 0.9436 - val_loss: 0.2875 - val_acc: 0.8849\n",
      "Epoch 25/40\n",
      "15000/15000 [==============================] - 3s 202us/step - loss: 0.1704 - acc: 0.9460 - val_loss: 0.2863 - val_acc: 0.8854\n",
      "Epoch 26/40\n",
      "15000/15000 [==============================] - 3s 201us/step - loss: 0.1631 - acc: 0.9483 - val_loss: 0.2863 - val_acc: 0.8858\n",
      "Epoch 27/40\n",
      "15000/15000 [==============================] - 3s 201us/step - loss: 0.1570 - acc: 0.9515 - val_loss: 0.2863 - val_acc: 0.8858\n",
      "Epoch 28/40\n",
      "15000/15000 [==============================] - 3s 201us/step - loss: 0.1505 - acc: 0.9543 - val_loss: 0.2861 - val_acc: 0.8868\n",
      "Epoch 29/40\n",
      "15000/15000 [==============================] - 3s 221us/step - loss: 0.1446 - acc: 0.9555 - val_loss: 0.2862 - val_acc: 0.8863\n",
      "Epoch 30/40\n",
      "15000/15000 [==============================] - 3s 202us/step - loss: 0.1394 - acc: 0.9576 - val_loss: 0.2871 - val_acc: 0.8864\n",
      "Epoch 31/40\n",
      "15000/15000 [==============================] - 3s 201us/step - loss: 0.1333 - acc: 0.9601 - val_loss: 0.2885 - val_acc: 0.8865\n",
      "Epoch 32/40\n",
      "15000/15000 [==============================] - 3s 220us/step - loss: 0.1286 - acc: 0.9623 - val_loss: 0.2902 - val_acc: 0.8867\n",
      "Epoch 33/40\n",
      "15000/15000 [==============================] - 3s 203us/step - loss: 0.1230 - acc: 0.9654 - val_loss: 0.2919 - val_acc: 0.8869\n",
      "Epoch 34/40\n",
      "15000/15000 [==============================] - 3s 202us/step - loss: 0.1185 - acc: 0.9663 - val_loss: 0.2938 - val_acc: 0.8855\n",
      "Epoch 35/40\n",
      "15000/15000 [==============================] - 3s 201us/step - loss: 0.1144 - acc: 0.9672 - val_loss: 0.2954 - val_acc: 0.8861\n",
      "Epoch 36/40\n",
      "15000/15000 [==============================] - 3s 201us/step - loss: 0.1095 - acc: 0.9703 - val_loss: 0.2981 - val_acc: 0.8859\n",
      "Epoch 37/40\n",
      "15000/15000 [==============================] - 3s 200us/step - loss: 0.1055 - acc: 0.9711 - val_loss: 0.3006 - val_acc: 0.8854\n",
      "Epoch 38/40\n",
      "15000/15000 [==============================] - 3s 201us/step - loss: 0.1021 - acc: 0.9719 - val_loss: 0.3034 - val_acc: 0.8842\n",
      "Epoch 39/40\n",
      "15000/15000 [==============================] - 3s 220us/step - loss: 0.0977 - acc: 0.9737 - val_loss: 0.3060 - val_acc: 0.8848\n",
      "Epoch 40/40\n",
      "15000/15000 [==============================] - 3s 204us/step - loss: 0.0939 - acc: 0.9759 - val_loss: 0.3087 - val_acc: 0.8833\n"
     ]
    }
   ],
   "source": [
    "#Train and produce information for loss and accuracy with each epoch\n",
    "history = model.fit(partial_x_train,\n",
    "                    partial_y_train,\n",
    "                    epochs=40,\n",
    "                    batch_size=512,\n",
    "                    validation_data=(x_val, y_val),\n",
    "                    verbose=1)"
   ]
  },
  {
   "cell_type": "markdown",
   "metadata": {},
   "source": [
    "Before I move on with the tutorial stuff, gotta say I think it started overfitting on the first run - the validation dataset really slows down on accuracy after about the 20th epoch and by the 25th is barely changing at all, while the training accuracy keeps going up and up. This may be officially commented on in the tutorial soon, but those're my thoughts having just run it."
   ]
  },
  {
   "cell_type": "markdown",
   "metadata": {},
   "source": [
    "Okay, now that the model's been trained, we can test it on the test dataset. Here, in order, we're going to see loss and accuracy."
   ]
  },
  {
   "cell_type": "code",
   "execution_count": 16,
   "metadata": {},
   "outputs": [
    {
     "name": "stdout",
     "output_type": "stream",
     "text": [
      "25000/25000 [==============================] - 1s 55us/step\n",
      "[0.3283825603103638, 0.87272]\n"
     ]
    }
   ],
   "source": [
    "results = model.evaluate(test_data, test_labels)\n",
    "\n",
    "print(results)"
   ]
  },
  {
   "cell_type": "markdown",
   "metadata": {},
   "source": [
    "The results here are just slightly worse than the validation set, and significantly worse than the training set, which isn't really that surprising with the overfitting spotted before. That said, overall it's a reasonable level of accuracy - it's just not as accurate as with reviews it's already seen."
   ]
  },
  {
   "cell_type": "markdown",
   "metadata": {},
   "source": [
    "To examine how loss and accuracy vary, we can graph them using the information from the history object."
   ]
  },
  {
   "cell_type": "code",
   "execution_count": 17,
   "metadata": {},
   "outputs": [
    {
     "data": {
      "text/plain": [
       "dict_keys(['val_loss', 'val_acc', 'loss', 'acc'])"
      ]
     },
     "execution_count": 17,
     "metadata": {},
     "output_type": "execute_result"
    }
   ],
   "source": [
    "#Getting information from history\n",
    "history_dict = history.history\n",
    "history_dict.keys()"
   ]
  },
  {
   "cell_type": "markdown",
   "metadata": {},
   "source": [
    "The entries from this are the accuracy and loss from the training and validation sets. Time to do some plotting."
   ]
  },
  {
   "cell_type": "code",
   "execution_count": 20,
   "metadata": {},
   "outputs": [
    {
     "data": {
      "image/png": "[encoded data removed]",
      "text/plain": [
       "<Figure size 432x288 with 1 Axes>"
      ]
     },
     "metadata": {
      "needs_background": "light"
     },
     "output_type": "display_data"
    }
   ],
   "source": [
    "#Setting up matplotlib to plot\n",
    "import matplotlib.pyplot as plt\n",
    "\n",
    "acc = history.history['acc']\n",
    "val_acc = history.history['val_acc']\n",
    "loss = history.history['loss']\n",
    "val_loss = history.history['val_loss']\n",
    "\n",
    "epochs = range(1, len(acc) + 1)\n",
    "\n",
    "#Starting off by plotting loss\n",
    "#Incidentally, keeping the original comments where they were broke the graph\n",
    "plt.plot(epochs, loss, 'bo', label='Training loss') # \"bo\" is for \"blue dot\"\n",
    "plt.plot(epochs, val_loss, 'b', label='Validation loss')  #b is for \"solid blue line\"\n",
    "plt.title('Training and validation loss')\n",
    "plt.xlabel('Epochs')\n",
    "plt.ylabel('Loss')\n",
    "plt.legend()\n",
    "\n",
    "plt.show()"
   ]
  },
  {
   "cell_type": "code",
   "execution_count": 19,
   "metadata": {},
   "outputs": [
    {
     "data": {
      "image/png": "[encoded data removed]",
      "text/plain": [
       "<Figure size 432x288 with 1 Axes>"
      ]
     },
     "metadata": {
      "needs_background": "light"
     },
     "output_type": "display_data"
    }
   ],
   "source": [
    "#This time, plot accuracy\n",
    "plt.clf()   # clear figure\n",
    "acc_values = history_dict['acc']\n",
    "val_acc_values = history_dict['val_acc']\n",
    "\n",
    "plt.plot(epochs, acc, 'bo', label='Training acc')\n",
    "plt.plot(epochs, val_acc, 'b', label='Validation acc')\n",
    "plt.title('Training and validation accuracy')\n",
    "plt.xlabel('Epochs')\n",
    "plt.ylabel('Accuracy')\n",
    "plt.legend()\n",
    "\n",
    "plt.show()"
   ]
  },
  {
   "cell_type": "markdown",
   "metadata": {},
   "source": [
    "As I commented earlier, these show overfitting - both the loss and accuracy level off somewhere around the 20 epoch mark while the training set keeps on improving, so really there's not much point continuing to fit beyond about the 20 epoch mark."
   ]
  }
 ],
 "metadata": {
  "kernelspec": {
   "display_name": "Python 3",
   "language": "python",
   "name": "python3"
  },
  "language_info": {
   "codemirror_mode": {
    "name": "ipython",
    "version": 3
   },
   "file_extension": ".py",
   "mimetype": "text/x-python",
   "name": "python",
   "nbconvert_exporter": "python",
   "pygments_lexer": "ipython3",
   "version": "3.6.6"
  }
 },
 "nbformat": 4,
 "nbformat_minor": 2
}
